{
 "cells": [
  {
   "cell_type": "markdown",
   "metadata": {},
   "source": [
    "# Load Dataset"
   ]
  },
  {
   "cell_type": "code",
   "execution_count": 2,
   "metadata": {},
   "outputs": [
    {
     "data": {
      "text/plain": [
       "['Transactions', 'NewCustomerList', 'CustomerDemographic', 'CustomerAddress']"
      ]
     },
     "execution_count": 2,
     "metadata": {},
     "output_type": "execute_result"
    }
   ],
   "source": [
    "import pandas as pd\n",
    "\n",
    "# Define file path:\n",
    "file_path = \"KPMG_VI_New_raw_data_update_final.xlsx\"\n",
    "\n",
    "# Load the Excel file\n",
    "xls = pd.ExcelFile(file_path)\n",
    "\n",
    "xls.sheet_names # Display sheet names\n"
   ]
  },
  {
   "cell_type": "code",
   "execution_count": 3,
   "metadata": {},
   "outputs": [
    {
     "name": "stdout",
     "output_type": "stream",
     "text": [
      "Transactions Data: \n",
      "   transaction_id  product_id  customer_id transaction_date  online_order  \\\n",
      "0               1           2         2950       2017-02-25           0.0   \n",
      "1               2           3         3120       2017-05-21           1.0   \n",
      "2               3          37          402       2017-10-16           0.0   \n",
      "3               4          88         3135       2017-08-31           0.0   \n",
      "4               5          78          787       2017-10-01           1.0   \n",
      "\n",
      "  order_status           brand product_line product_class product_size  \\\n",
      "0     Approved           Solex     Standard        medium       medium   \n",
      "1     Approved   Trek Bicycles     Standard        medium        large   \n",
      "2     Approved      OHM Cycles     Standard           low       medium   \n",
      "3     Approved  Norco Bicycles     Standard        medium       medium   \n",
      "4     Approved  Giant Bicycles     Standard        medium        large   \n",
      "\n",
      "   list_price  standard_cost  product_first_sold_date  \n",
      "0       71.49          53.62                  41245.0  \n",
      "1     2091.47         388.92                  41701.0  \n",
      "2     1793.43         248.82                  36361.0  \n",
      "3     1198.46         381.10                  36145.0  \n",
      "4     1765.30         709.48                  42226.0   \n",
      "\n",
      "----------------------------------------------------------------------\n",
      "Customer Demographics Data: \n",
      "   customer_id               name gender  past_3_years_bike_related_purchases  \\\n",
      "0           34  Jephthah Bachmann      U                                   59   \n",
      "1          144    Jory Barrabeale      U                                   71   \n",
      "2          168   Reggie Broggetti      U                                    8   \n",
      "3          267      Edgar Buckler      U                                   53   \n",
      "4          290     Giorgio Kevane      U                                   42   \n",
      "\n",
      "          DOB    age               job_title job_industry_category  \\\n",
      "0  1843-12-21    NaN         Legal Assistant                    IT   \n",
      "1         NaN  125.0      Environmental Tech                    IT   \n",
      "2         NaN  125.0         General Manager                    IT   \n",
      "3         NaN  125.0                     NaN                    IT   \n",
      "4         NaN  125.0  Senior Sales Associate                    IT   \n",
      "\n",
      "      wealth_segment deceased_indicator owns_car  tenure  \n",
      "0  Affluent Customer                  N       No    20.0  \n",
      "1      Mass Customer                  N       No     NaN  \n",
      "2  Affluent Customer                  N      Yes     NaN  \n",
      "3     High Net Worth                  N       No     NaN  \n",
      "4      Mass Customer                  N       No     NaN   \n",
      "\n",
      "----------------------------------------------------------------------\n",
      "New Customer List Data: \n",
      "  first_name  last_name  gender  past_3_years_bike_related_purchases  \\\n",
      "0    Chickie    Brister    Male                                   86   \n",
      "1      Morly     Genery    Male                                   69   \n",
      "2    Ardelis  Forrester  Female                                   10   \n",
      "3     Lucine      Stutt  Female                                   64   \n",
      "4    Melinda     Hadlee  Female                                   34   \n",
      "\n",
      "                   DOB                   job_title job_industry_category  \\\n",
      "0           1957-07-12             General Manager         Manufacturing   \n",
      "1           1970-03-22         Structural Engineer              Property   \n",
      "2  1974-08-28 00:00:00      Senior Cost Accountant    Financial Services   \n",
      "3           1979-01-28  Account Representative III         Manufacturing   \n",
      "4           1965-09-21           Financial Analyst    Financial Services   \n",
      "\n",
      "      wealth_segment deceased_indicator owns_car  ...  state    country  \\\n",
      "0      Mass Customer                  N      Yes  ...    QLD  Australia   \n",
      "1      Mass Customer                  N       No  ...    NSW  Australia   \n",
      "2  Affluent Customer                  N       No  ...    VIC  Australia   \n",
      "3  Affluent Customer                  N      Yes  ...    QLD  Australia   \n",
      "4  Affluent Customer                  N       No  ...    NSW  Australia   \n",
      "\n",
      "   property_valuation Unnamed: 16 Unnamed: 17  Unnamed: 18  Unnamed: 19  \\\n",
      "0                   6        0.79      0.9875     1.234375     1.049219   \n",
      "1                  11        1.06      1.0600     1.325000     1.126250   \n",
      "2                   5        0.87      0.8700     0.870000     0.870000   \n",
      "3                   1        0.80      1.0000     1.000000     1.000000   \n",
      "4                   9        0.87      0.8700     1.087500     1.087500   \n",
      "\n",
      "   Unnamed: 20  Rank     Value  \n",
      "0            1     1  1.718750  \n",
      "1            1     1  1.718750  \n",
      "2            1     1  1.718750  \n",
      "3            4     4  1.703125  \n",
      "4            4     4  1.703125  \n",
      "\n",
      "[5 rows x 23 columns] \n",
      "\n",
      "----------------------------------------------------------------------\n",
      "Customer Address Data: \n",
      "   customer_id              address  postcode            state    country  \\\n",
      "0            1   060 Morning Avenue      2016  New South Wales  Australia   \n",
      "1            2  6 Meadow Vale Court      2153  New South Wales  Australia   \n",
      "2            4   0 Holy Cross Court      4211              QLD  Australia   \n",
      "3            5  17979 Del Mar Point      2448  New South Wales  Australia   \n",
      "4            6     9 Oakridge Court      3216              VIC  Australia   \n",
      "\n",
      "   property_valuation  \n",
      "0                  10  \n",
      "1                  10  \n",
      "2                   9  \n",
      "3                   4  \n",
      "4                   9   \n",
      "\n"
     ]
    }
   ],
   "source": [
    "# Load each sheet into DataFrame\n",
    "df_transactions = pd.read_excel(xls, sheet_name=\"Transactions\")\n",
    "df_customers = pd.read_excel(xls, sheet_name=\"CustomerDemographic\")\n",
    "df_new_customers = pd.read_excel(xls, sheet_name=\"NewCustomerList\")\n",
    "df_addresses = pd.read_excel(xls, sheet_name=\"CustomerAddress\")\n",
    "\n",
    "# Display first 5 rows of each dataset\n",
    "print(\"Transactions Data: \")\n",
    "print(df_transactions.head(), \"\\n\")\n",
    "\n",
    "print(\"-\"*70)\n",
    "print(\"Customer Demographics Data: \")\n",
    "print(df_customers.head(), \"\\n\")\n",
    "\n",
    "print(\"-\"*70)\n",
    "\n",
    "print(\"New Customer List Data: \")\n",
    "print(df_new_customers.head(), \"\\n\")\n",
    "\n",
    "print(\"-\"*70)\n",
    "\n",
    "print(\"Customer Address Data: \")\n",
    "print(df_addresses.head(), \"\\n\")"
   ]
  },
  {
   "cell_type": "markdown",
   "metadata": {},
   "source": [
    "# Data Cleaning and Preprocessing"
   ]
  },
  {
   "cell_type": "code",
   "execution_count": 4,
   "metadata": {},
   "outputs": [
    {
     "name": "stdout",
     "output_type": "stream",
     "text": [
      "\n",
      "Dataset: Transactions\n",
      "<class 'pandas.core.frame.DataFrame'>\n",
      "RangeIndex: 20000 entries, 0 to 19999\n",
      "Data columns (total 13 columns):\n",
      " #   Column                   Non-Null Count  Dtype         \n",
      "---  ------                   --------------  -----         \n",
      " 0   transaction_id           20000 non-null  int64         \n",
      " 1   product_id               20000 non-null  int64         \n",
      " 2   customer_id              20000 non-null  int64         \n",
      " 3   transaction_date         20000 non-null  datetime64[ns]\n",
      " 4   online_order             19640 non-null  float64       \n",
      " 5   order_status             20000 non-null  object        \n",
      " 6   brand                    19803 non-null  object        \n",
      " 7   product_line             19803 non-null  object        \n",
      " 8   product_class            19803 non-null  object        \n",
      " 9   product_size             19803 non-null  object        \n",
      " 10  list_price               20000 non-null  float64       \n",
      " 11  standard_cost            19803 non-null  float64       \n",
      " 12  product_first_sold_date  19803 non-null  float64       \n",
      "dtypes: datetime64[ns](1), float64(4), int64(3), object(5)\n",
      "memory usage: 2.0+ MB\n",
      "None\n",
      "\n",
      "Missing Values: \n",
      "transaction_id               0\n",
      "product_id                   0\n",
      "customer_id                  0\n",
      "transaction_date             0\n",
      "online_order               360\n",
      "order_status                 0\n",
      "brand                      197\n",
      "product_line               197\n",
      "product_class              197\n",
      "product_size               197\n",
      "list_price                   0\n",
      "standard_cost              197\n",
      "product_first_sold_date    197\n",
      "dtype: int64\n",
      "==================================================\n",
      "\n",
      "Dataset: Customer Demographics\n",
      "<class 'pandas.core.frame.DataFrame'>\n",
      "RangeIndex: 4000 entries, 0 to 3999\n",
      "Data columns (total 12 columns):\n",
      " #   Column                               Non-Null Count  Dtype  \n",
      "---  ------                               --------------  -----  \n",
      " 0   customer_id                          4000 non-null   int64  \n",
      " 1   name                                 4000 non-null   object \n",
      " 2   gender                               4000 non-null   object \n",
      " 3   past_3_years_bike_related_purchases  4000 non-null   int64  \n",
      " 4   DOB                                  3913 non-null   object \n",
      " 5   age                                  3999 non-null   float64\n",
      " 6   job_title                            3494 non-null   object \n",
      " 7   job_industry_category                3344 non-null   object \n",
      " 8   wealth_segment                       4000 non-null   object \n",
      " 9   deceased_indicator                   4000 non-null   object \n",
      " 10  owns_car                             4000 non-null   object \n",
      " 11  tenure                               3913 non-null   float64\n",
      "dtypes: float64(2), int64(2), object(8)\n",
      "memory usage: 375.1+ KB\n",
      "None\n",
      "\n",
      "Missing Values: \n",
      "customer_id                              0\n",
      "name                                     0\n",
      "gender                                   0\n",
      "past_3_years_bike_related_purchases      0\n",
      "DOB                                     87\n",
      "age                                      1\n",
      "job_title                              506\n",
      "job_industry_category                  656\n",
      "wealth_segment                           0\n",
      "deceased_indicator                       0\n",
      "owns_car                                 0\n",
      "tenure                                  87\n",
      "dtype: int64\n",
      "==================================================\n",
      "\n",
      "Dataset: New Customer List\n",
      "<class 'pandas.core.frame.DataFrame'>\n",
      "RangeIndex: 1000 entries, 0 to 999\n",
      "Data columns (total 23 columns):\n",
      " #   Column                               Non-Null Count  Dtype  \n",
      "---  ------                               --------------  -----  \n",
      " 0   first_name                           1000 non-null   object \n",
      " 1   last_name                            971 non-null    object \n",
      " 2   gender                               1000 non-null   object \n",
      " 3   past_3_years_bike_related_purchases  1000 non-null   int64  \n",
      " 4   DOB                                  983 non-null    object \n",
      " 5   job_title                            894 non-null    object \n",
      " 6   job_industry_category                835 non-null    object \n",
      " 7   wealth_segment                       1000 non-null   object \n",
      " 8   deceased_indicator                   1000 non-null   object \n",
      " 9   owns_car                             1000 non-null   object \n",
      " 10  tenure                               1000 non-null   int64  \n",
      " 11  address                              1000 non-null   object \n",
      " 12  postcode                             1000 non-null   int64  \n",
      " 13  state                                1000 non-null   object \n",
      " 14  country                              1000 non-null   object \n",
      " 15  property_valuation                   1000 non-null   int64  \n",
      " 16  Unnamed: 16                          1000 non-null   float64\n",
      " 17  Unnamed: 17                          1000 non-null   float64\n",
      " 18  Unnamed: 18                          1000 non-null   float64\n",
      " 19  Unnamed: 19                          1000 non-null   float64\n",
      " 20  Unnamed: 20                          1000 non-null   int64  \n",
      " 21  Rank                                 1000 non-null   int64  \n",
      " 22  Value                                1000 non-null   float64\n",
      "dtypes: float64(5), int64(6), object(12)\n",
      "memory usage: 179.8+ KB\n",
      "None\n",
      "\n",
      "Missing Values: \n",
      "first_name                               0\n",
      "last_name                               29\n",
      "gender                                   0\n",
      "past_3_years_bike_related_purchases      0\n",
      "DOB                                     17\n",
      "job_title                              106\n",
      "job_industry_category                  165\n",
      "wealth_segment                           0\n",
      "deceased_indicator                       0\n",
      "owns_car                                 0\n",
      "tenure                                   0\n",
      "address                                  0\n",
      "postcode                                 0\n",
      "state                                    0\n",
      "country                                  0\n",
      "property_valuation                       0\n",
      "Unnamed: 16                              0\n",
      "Unnamed: 17                              0\n",
      "Unnamed: 18                              0\n",
      "Unnamed: 19                              0\n",
      "Unnamed: 20                              0\n",
      "Rank                                     0\n",
      "Value                                    0\n",
      "dtype: int64\n",
      "==================================================\n",
      "\n",
      "Dataset:  Customer Address\n",
      "<class 'pandas.core.frame.DataFrame'>\n",
      "RangeIndex: 3999 entries, 0 to 3998\n",
      "Data columns (total 6 columns):\n",
      " #   Column              Non-Null Count  Dtype \n",
      "---  ------              --------------  ----- \n",
      " 0   customer_id         3999 non-null   int64 \n",
      " 1   address             3999 non-null   object\n",
      " 2   postcode            3999 non-null   int64 \n",
      " 3   state               3999 non-null   object\n",
      " 4   country             3999 non-null   object\n",
      " 5   property_valuation  3999 non-null   int64 \n",
      "dtypes: int64(3), object(3)\n",
      "memory usage: 187.6+ KB\n",
      "None\n",
      "\n",
      "Missing Values: \n",
      "customer_id           0\n",
      "address               0\n",
      "postcode              0\n",
      "state                 0\n",
      "country               0\n",
      "property_valuation    0\n",
      "dtype: int64\n",
      "==================================================\n"
     ]
    }
   ],
   "source": [
    "# Function to check missing values and data types\n",
    "def Check_Missing_values(df, name):\n",
    "    print(f\"\\nDataset: {name}\")\n",
    "    print(df.info()) #check data types\n",
    "    print(\"\\nMissing Values: \")\n",
    "    print(df.isnull().sum()) #Count missing values\n",
    "    print(\"=\"*50)\n",
    "\n",
    "# Check each dataset\n",
    "Check_Missing_values(df_transactions, \"Transactions\")\n",
    "Check_Missing_values(df_customers, \"Customer Demographics\")\n",
    "Check_Missing_values(df_new_customers, \"New Customer List\")\n",
    "Check_Missing_values(df_addresses, \" Customer Address\")"
   ]
  },
  {
   "cell_type": "code",
   "execution_count": 5,
   "metadata": {},
   "outputs": [
    {
     "name": "stdout",
     "output_type": "stream",
     "text": [
      "customer_id                              0\n",
      "name                                     0\n",
      "gender                                   0\n",
      "past_3_years_bike_related_purchases      0\n",
      "DOB                                      0\n",
      "age                                      1\n",
      "job_title                              497\n",
      "job_industry_category                    0\n",
      "wealth_segment                           0\n",
      "deceased_indicator                       0\n",
      "owns_car                                 0\n",
      "tenure                                   0\n",
      "dtype: int64\n",
      "transaction_id             0\n",
      "product_id                 0\n",
      "customer_id                0\n",
      "transaction_date           0\n",
      "online_order               0\n",
      "order_status               0\n",
      "brand                      0\n",
      "product_line               0\n",
      "product_class              0\n",
      "product_size               0\n",
      "list_price                 0\n",
      "standard_cost              0\n",
      "product_first_sold_date    0\n",
      "dtype: int64\n"
     ]
    },
    {
     "name": "stderr",
     "output_type": "stream",
     "text": [
      "C:\\Users\\sachi\\AppData\\Local\\Temp\\ipykernel_19176\\2983762599.py:2: FutureWarning: A value is trying to be set on a copy of a DataFrame or Series through chained assignment using an inplace method.\n",
      "The behavior will change in pandas 3.0. This inplace method will never work because the intermediate object on which we are setting values always behaves as a copy.\n",
      "\n",
      "For example, when doing 'df[col].method(value, inplace=True)', try using 'df.method({col: value}, inplace=True)' or df[col] = df[col].method(value) instead, to perform the operation inplace on the original object.\n",
      "\n",
      "\n",
      "  df_customers[\"job_industry_category\"].fillna(\"Unknown\", inplace=True)\n",
      "C:\\Users\\sachi\\AppData\\Local\\Temp\\ipykernel_19176\\2983762599.py:3: FutureWarning: A value is trying to be set on a copy of a DataFrame or Series through chained assignment using an inplace method.\n",
      "The behavior will change in pandas 3.0. This inplace method will never work because the intermediate object on which we are setting values always behaves as a copy.\n",
      "\n",
      "For example, when doing 'df[col].method(value, inplace=True)', try using 'df.method({col: value}, inplace=True)' or df[col] = df[col].method(value) instead, to perform the operation inplace on the original object.\n",
      "\n",
      "\n",
      "  df_customers[\"wealth_segment\"].fillna(df_customers[\"wealth_segment\"].mode()[0], inplace=True)\n"
     ]
    }
   ],
   "source": [
    "# Fill missing value in Cusomer Demographics\n",
    "df_customers[\"job_industry_category\"].fillna(\"Unknown\", inplace=True)\n",
    "df_customers[\"wealth_segment\"].fillna(df_customers[\"wealth_segment\"].mode()[0], inplace=True)\n",
    "\n",
    "# Drop rows with many missing values\n",
    "df_customers.dropna(subset=['DOB'], inplace=True)\n",
    "\n",
    "# Fill missing values in Transactions\n",
    "df_transactions.fillna(0, inplace=True) # Assuming values mean no transaction\n",
    "\n",
    "print(df_customers.isnull().sum())\n",
    "print(df_transactions.isnull().sum())"
   ]
  },
  {
   "cell_type": "code",
   "execution_count": 6,
   "metadata": {},
   "outputs": [
    {
     "name": "stdout",
     "output_type": "stream",
     "text": [
      "Customer Duplicates: 0\n",
      "Transaction Duplicates: 0\n"
     ]
    }
   ],
   "source": [
    "# Remove dulicates from transcations\n",
    "df_transactions.drop_duplicates(inplace=True)\n",
    "\n",
    "#Remove duplicates from Customers\n",
    "df_customers.drop_duplicates(inplace=True)\n",
    "\n",
    "#check if duplicates still exist\n",
    "print(f\"Customer Duplicates: {df_customers.duplicated().sum()}\")\n",
    "print(f\"Transaction Duplicates: {df_transactions.duplicated().sum()}\")"
   ]
  },
  {
   "cell_type": "markdown",
   "metadata": {},
   "source": [
    "# Exploratory Data Analysis"
   ]
  },
  {
   "cell_type": "code",
   "execution_count": 16,
   "metadata": {},
   "outputs": [],
   "source": [
    "# Understanding Customer Spending Behavior"
   ]
  },
  {
   "cell_type": "code",
   "execution_count": 17,
   "metadata": {},
   "outputs": [
    {
     "name": "stdout",
     "output_type": "stream",
     "text": [
      "Total Revenue: $22,156,588.98\n",
      "Average Order Value: $1,107.83\n",
      "Total Unique Customers: 3494\n"
     ]
    }
   ],
   "source": [
    "import matplotlib.pyplot as plt\n",
    "import seaborn as sns \n",
    "\n",
    "# total revenue\n",
    "total_revenue = df_transactions[\"list_price\"].sum()\n",
    "print(f\"Total Revenue: ${total_revenue:,.2f}\")\n",
    "\n",
    "# Average Order Value\n",
    "average_order_value = df_transactions[\"list_price\"].mean()\n",
    "print(f\"Average Order Value: ${average_order_value:,.2f}\")\n",
    "\n",
    "# No of unique customers\n",
    "total_customers = df_transactions[\"customer_id\"].nunique()\n",
    "print(f\"Total Unique Customers: {total_customers}\")"
   ]
  },
  {
   "cell_type": "code",
   "execution_count": 18,
   "metadata": {},
   "outputs": [],
   "source": [
    "# Who are the top customers?"
   ]
  },
  {
   "cell_type": "code",
   "execution_count": 21,
   "metadata": {},
   "outputs": [
    {
     "name": "stderr",
     "output_type": "stream",
     "text": [
      "C:\\Users\\sachi\\AppData\\Local\\Temp\\ipykernel_19176\\1473831508.py:6: FutureWarning: \n",
      "\n",
      "Passing `palette` without assigning `hue` is deprecated and will be removed in v0.14.0. Assign the `x` variable to `hue` and set `legend=False` for the same effect.\n",
      "\n",
      "  sns.barplot(x=top_customers.index, y= top_customers.values, palette=\"viridis\")\n"
     ]
    },
    {
     "data": {
      "image/png": "[encoded data removed]",
      "text/plain": [
       "<Figure size 1000x500 with 1 Axes>"
      ]
     },
     "metadata": {},
     "output_type": "display_data"
    }
   ],
   "source": [
    "# Group by customer and sum the purchase amounts\n",
    "top_customers = df_transactions.groupby(\"customer_id\")[\"list_price\"].sum().sort_values(ascending=False).head(10)\n",
    "\n",
    "# Plot top 10 Customers\n",
    "plt.figure(figsize=(10, 5))\n",
    "sns.barplot(x=top_customers.index, y= top_customers.values, palette=\"viridis\")\n",
    "plt.xticks(rotation=45)\n",
    "plt.xlabel(\"Customer ID\")\n",
    "plt.ylabel(\"Total Spending\")\n",
    "plt.title(\"Top 10 Customers by Total Spending\")\n",
    "plt.show()"
   ]
  },
  {
   "cell_type": "code",
   "execution_count": 23,
   "metadata": {},
   "outputs": [
    {
     "data": {
      "image/png": "[encoded data removed]",
      "text/plain": [
       "<Figure size 1200x600 with 1 Axes>"
      ]
     },
     "metadata": {},
     "output_type": "display_data"
    }
   ],
   "source": [
    "# What Are the Sales Trends Over Time?\n",
    "\n",
    "# Extract month and year\n",
    "df_transactions[\"YearMonth\"] = df_transactions[\"transaction_date\"].dt.to_period(\"M\")\n",
    "\n",
    "# Group by month\n",
    "monthly_sales = df_transactions.groupby(\"YearMonth\")[\"list_price\"].sum()\n",
    "\n",
    "#Plot sals trends\n",
    "plt.figure(figsize=(12,6))\n",
    "monthly_sales.plot(marker=\"o\", color=\"blue\")\n",
    "plt.xlabel(\"month\")\n",
    "plt.ylabel(\"Total Revenue\")\n",
    "plt.title(\"Monthly Sales Trend\")\n",
    "plt.xticks(rotation=45)\n",
    "plt.show()"
   ]
  },
  {
   "cell_type": "code",
   "execution_count": 30,
   "metadata": {},
   "outputs": [
    {
     "name": "stderr",
     "output_type": "stream",
     "text": [
      "C:\\Users\\sachi\\AppData\\Local\\Temp\\ipykernel_19176\\1998636355.py:14: FutureWarning: The default of observed=False is deprecated and will be changed to True in a future version of pandas. Pass observed=False to retain current behavior or observed=True to adopt the future default and silence this warning.\n",
      "  age_group_spending = df_merged.groupby(\"Age Group\")[\"list_price\"].sum()\n",
      "C:\\Users\\sachi\\AppData\\Local\\Temp\\ipykernel_19176\\1998636355.py:18: FutureWarning: \n",
      "\n",
      "Passing `palette` without assigning `hue` is deprecated and will be removed in v0.14.0. Assign the `x` variable to `hue` and set `legend=False` for the same effect.\n",
      "\n",
      "  sns.barplot(x=age_group_spending.index, y=age_group_spending.values, palette=\"coolwarm\")\n"
     ]
    },
    {
     "data": {
      "image/png": "[encoded data removed]",
      "text/plain": [
       "<Figure size 1000x500 with 1 Axes>"
      ]
     },
     "metadata": {},
     "output_type": "display_data"
    }
   ],
   "source": [
    "# Customer Spending by demographics\n",
    "\n",
    "# create age bins \n",
    "bins = [18, 25, 35, 45, 55, 65, 75, 100]\n",
    "labels = [\"18-24\", \"25-34\",\"35-44\", \"45-54\", \"55-64\", \"65-74\", \"75+\"]\n",
    "df_customers['DOB'] = pd.to_datetime(df_customers['DOB'])\n",
    "df_customers[\"Age\"] = (pd.Timestamp.today().year - df_customers[\"DOB\"].dt.year)\n",
    "df_customers[\"Age Group\"] = pd.cut(df_customers[\"Age\"], bins=bins, labels=labels, right=False)\n",
    "\n",
    "# Merge customer demographics with transactions\n",
    "df_merged = df_transactions.merge(df_customers, on=\"customer_id\", how='left')\n",
    "\n",
    "# Group by age group and sum spending\n",
    "age_group_spending = df_merged.groupby(\"Age Group\")[\"list_price\"].sum()\n",
    "\n",
    "# Plot spending by age group and spending\n",
    "plt.figure(figsize=(10,5))\n",
    "sns.barplot(x=age_group_spending.index, y=age_group_spending.values, palette=\"coolwarm\")\n",
    "plt.xlabel(\"Age Group\")\n",
    "plt.ylabel(\"Total Spending\")\n",
    "plt.title(\"Customer Spending by Age Group\")\n",
    "plt.show()"
   ]
  },
  {
   "cell_type": "markdown",
   "metadata": {},
   "source": [
    "# Customer Segementation using RFM Analysis"
   ]
  },
  {
   "cell_type": "code",
   "execution_count": null,
   "metadata": {},
   "outputs": [],
   "source": [
    "''' \n",
    "RFM is Data-driven customer segmentation technique based on:\n",
    "- Recency(R): How recently a customer made a purchase.\n",
    "- Frequency(F): How often a customer makes purchases.\n",
    "- Monetary value(M): How much money a customer has spent.\n",
    "\n",
    "This helps in:\n",
    "- Identifing loyal customer\n",
    "- Finding customer at risk of churn\n",
    "- Targeting marketing campaigns effectively\n",
    "'''"
   ]
  },
  {
   "cell_type": "code",
   "execution_count": null,
   "metadata": {},
   "outputs": [
    {
     "name": "stdout",
     "output_type": "stream",
     "text": [
      "             Recency  Frequency  Monetary\n",
      "customer_id                              \n",
      "1                  7         11   9084.45\n",
      "2                128          3   4149.07\n",
      "3                102          8   9888.23\n",
      "4                195          2   1047.72\n",
      "5                 16          6   5903.20\n"
     ]
    }
   ],
   "source": [
    "# Preparing the data\n",
    "\n",
    "import datetime\n",
    "\n",
    "reference_date = df_transactions[\"transaction_date\"].max() # latest transcation date inn the dataset\n",
    "\n",
    "# RFM Calulation\n",
    "rfm = df_transactions.groupby(\"customer_id\").agg({\n",
    "    \"transaction_date\": lambda x: (reference_date - x.max()).days, # Recency\n",
    "    \"transaction_id\": \"count\", # Frequency\n",
    "    \"list_price\" : \"sum\" #Monetary Value\n",
    "})\n",
    "\n",
    "# Rename columns\n",
    "rfm.columns = [\"Recency\", \"Frequency\", \"Monetary\"]\n",
    "\n",
    "# Display top 5 customer\n",
    "print(rfm.head())"
   ]
  },
  {
   "cell_type": "code",
   "execution_count": 32,
   "metadata": {},
   "outputs": [
    {
     "name": "stdout",
     "output_type": "stream",
     "text": [
      "             Recency  Frequency  Monetary R_Score F_Score M_Score RFM_Score\n",
      "customer_id                                                                \n",
      "1                  7         11   9084.45       5       1       1       511\n",
      "2                128          3   4149.07       1       5       4       154\n",
      "3                102          8   9888.23       1       2       1       121\n",
      "4                195          2   1047.72       1       5       5       155\n",
      "5                 16          6   5903.20       4       3       3       433\n"
     ]
    }
   ],
   "source": [
    "# Assiging RFM Scores\n",
    "\n",
    "rfm[\"R_Score\"] = pd.qcut(rfm[\"Recency\"], 5, labels=[5,4,3,2,1])\n",
    "rfm[\"F_Score\"] = pd.qcut(rfm[\"Frequency\"].rank(method=\"first\"), 5, labels=[5,4,3,2,1])\n",
    "rfm[\"M_Score\"] = pd.qcut(rfm[\"Monetary\"], 5, labels=[5,4,3,2,1])\n",
    "\n",
    "# combine scores into a single RFM score\n",
    "rfm[\"RFM_Score\"] = rfm[\"R_Score\"].astype(str) + rfm[\"F_Score\"].astype(str) + rfm[\"M_Score\"].astype(str) \n",
    "\n",
    "# Display\n",
    "print(rfm.head())"
   ]
  },
  {
   "cell_type": "code",
   "execution_count": 34,
   "metadata": {},
   "outputs": [
    {
     "name": "stdout",
     "output_type": "stream",
     "text": [
      "segment\n",
      "Lost Customer         3025\n",
      "At Risk of Churn       141\n",
      "Potential Loyalist     117\n",
      "Loyal Customer         111\n",
      "VIP Customer           100\n",
      "Name: count, dtype: int64\n"
     ]
    }
   ],
   "source": [
    "# Defining customer segments\n",
    "\n",
    "def segment_customer(rfm_score):\n",
    "    if rfm_score in [\"555\", \"554\", \"545\"]:\n",
    "        return \"VIP Customer\"\n",
    "    elif rfm_score in [\"544\", \"543\", \"435\"]:\n",
    "        return \"Loyal Customer\"\n",
    "    elif rfm_score in [\"333\", \"323\", \"232\"]:\n",
    "        return \"Potential Loyalist\"\n",
    "    elif rfm_score in [\"221\", \"212\", '211']:\n",
    "        return \"At Risk of Churn\"\n",
    "    else:\n",
    "        return \"Lost Customer\"\n",
    "    \n",
    "# Apply segmentation\n",
    "rfm[\"segment\"] = rfm[\"RFM_Score\"].apply(segment_customer)\n",
    "\n",
    "#Diplay segmented customers\n",
    "print(rfm[\"segment\"].value_counts())"
   ]
  },
  {
   "cell_type": "code",
   "execution_count": 35,
   "metadata": {},
   "outputs": [],
   "source": [
    "# Saved cleaned datasets for Power BI\n",
    "\n",
    "df_transactions.to_csv(\"transaction_cleaned.csv\", index=False)\n",
    "df_customers.to_csv(\"customers_cleaned.csv\", index=False)\n",
    "rfm.to_csv(\"rfm_segmentation.csv\", index=True)"
   ]
  }
 ],
 "metadata": {
  "kernelspec": {
   "display_name": "Python 3",
   "language": "python",
   "name": "python3"
  },
  "language_info": {
   "codemirror_mode": {
    "name": "ipython",
    "version": 3
   },
   "file_extension": ".py",
   "mimetype": "text/x-python",
   "name": "python",
   "nbconvert_exporter": "python",
   "pygments_lexer": "ipython3",
   "version": "3.12.2"
  }
 },
 "nbformat": 4,
 "nbformat_minor": 2
}
